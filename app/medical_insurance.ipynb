{
 "cells": [
  {
   "cell_type": "code",
   "execution_count": 1,
   "id": "fcb4c2dc-aff0-41d7-88dc-a8f74953fad2",
   "metadata": {},
   "outputs": [
    {
     "name": "stdout",
     "output_type": "stream",
     "text": [
      "Collecting opendatasets"
     ]
    },
    {
     "name": "stderr",
     "output_type": "stream",
     "text": [
      "  DEPRECATION: kaggle is being installed using the legacy 'setup.py install' method, because it does not have a 'pyproject.toml' and the 'wheel' package is not installed. pip 23.1 will enforce this behaviour change. A possible replacement is to enable the '--use-pep517' option. Discussion can be found at https://github.com/pypa/pip/issues/8559\n",
      "\n",
      "[notice] A new release of pip available: 22.3.1 -> 24.0\n",
      "[notice] To update, run: python.exe -m pip install --upgrade pip\n"
     ]
    },
    {
     "name": "stdout",
     "output_type": "stream",
     "text": [
      "\n",
      "  Using cached opendatasets-0.1.22-py3-none-any.whl (15 kB)\n",
      "Collecting tqdm\n",
      "  Downloading tqdm-4.66.2-py3-none-any.whl (78 kB)\n",
      "     ---------------------------------------- 78.3/78.3 kB 1.4 MB/s eta 0:00:00\n",
      "Collecting kaggle\n",
      "  Downloading kaggle-1.6.8.tar.gz (84 kB)\n",
      "     -------------------------------------- 84.6/84.6 kB 476.5 kB/s eta 0:00:00\n",
      "  Preparing metadata (setup.py): started\n",
      "  Preparing metadata (setup.py): finished with status 'done'\n",
      "Collecting click\n",
      "  Using cached click-8.1.7-py3-none-any.whl (97 kB)\n",
      "Requirement already satisfied: colorama in c:\\users\\sumit\\desktop\\project\\myenv\\lib\\site-packages (from click->opendatasets) (0.4.6)\n",
      "Requirement already satisfied: six>=1.10 in c:\\users\\sumit\\desktop\\project\\myenv\\lib\\site-packages (from kaggle->opendatasets) (1.16.0)\n",
      "Requirement already satisfied: certifi>=2023.7.22 in c:\\users\\sumit\\desktop\\project\\myenv\\lib\\site-packages (from kaggle->opendatasets) (2024.2.2)\n",
      "Requirement already satisfied: python-dateutil in c:\\users\\sumit\\desktop\\project\\myenv\\lib\\site-packages (from kaggle->opendatasets) (2.9.0.post0)\n",
      "Requirement already satisfied: requests in c:\\users\\sumit\\desktop\\project\\myenv\\lib\\site-packages (from kaggle->opendatasets) (2.31.0)\n",
      "Collecting python-slugify\n",
      "  Downloading python_slugify-8.0.4-py2.py3-none-any.whl (10 kB)\n",
      "Requirement already satisfied: urllib3 in c:\\users\\sumit\\desktop\\project\\myenv\\lib\\site-packages (from kaggle->opendatasets) (2.2.1)\n",
      "Collecting bleach\n",
      "  Downloading bleach-6.1.0-py3-none-any.whl (162 kB)\n",
      "     ------------------------------------ 162.8/162.8 kB 375.6 kB/s eta 0:00:00\n",
      "Collecting webencodings\n",
      "  Downloading webencodings-0.5.1-py2.py3-none-any.whl (11 kB)\n",
      "Collecting text-unidecode>=1.3\n",
      "  Downloading text_unidecode-1.3-py2.py3-none-any.whl (78 kB)\n",
      "     ---------------------------------------- 78.2/78.2 kB 1.1 MB/s eta 0:00:00\n",
      "Requirement already satisfied: charset-normalizer<4,>=2 in c:\\users\\sumit\\desktop\\project\\myenv\\lib\\site-packages (from requests->kaggle->opendatasets) (3.3.2)\n",
      "Requirement already satisfied: idna<4,>=2.5 in c:\\users\\sumit\\desktop\\project\\myenv\\lib\\site-packages (from requests->kaggle->opendatasets) (3.6)\n",
      "Installing collected packages: webencodings, text-unidecode, tqdm, python-slugify, click, bleach, kaggle, opendatasets\n",
      "  Running setup.py install for kaggle: started\n",
      "  Running setup.py install for kaggle: finished with status 'done'\n",
      "Successfully installed bleach-6.1.0 click-8.1.7 kaggle-1.6.8 opendatasets-0.1.22 python-slugify-8.0.4 text-unidecode-1.3 tqdm-4.66.2 webencodings-0.5.1\n"
     ]
    }
   ],
   "source": [
    "!pip install opendatasets\n"
   ]
  },
  {
   "cell_type": "code",
   "execution_count": 2,
   "id": "e35f79ca-da5a-4d35-8741-7d538b3ae9d6",
   "metadata": {},
   "outputs": [],
   "source": [
    "import numpy as np\n",
    "import pandas as pd\n",
    "import opendatasets as od"
   ]
  },
  {
   "cell_type": "code",
   "execution_count": 4,
   "id": "78650019-a7d5-47ff-9be2-508ce377e9d4",
   "metadata": {
    "tags": []
   },
   "outputs": [
    {
     "name": "stdout",
     "output_type": "stream",
     "text": [
      "Skipping, found downloaded files in \".\\medical-insurance-cost-prediction\" (use force=True to force download)\n"
     ]
    }
   ],
   "source": [
    "od.download(\"https://www.kaggle.com/datasets/rahulvyasm/medical-insurance-cost-prediction?resource=download\")"
   ]
  },
  {
   "cell_type": "code",
   "execution_count": 47,
   "id": "c30dd099-85d7-4aa9-8bab-840ad93d1a9e",
   "metadata": {
    "tags": []
   },
   "outputs": [],
   "source": [
    "df=pd.read_csv(\"medical-insurance-cost-prediction\\medical_insurance.csv\")"
   ]
  },
  {
   "cell_type": "code",
   "execution_count": 48,
   "id": "57b9f39f-f79f-405f-92eb-d02b6bbcc7b7",
   "metadata": {},
   "outputs": [],
   "source": [
    "target=df['charges']"
   ]
  },
  {
   "cell_type": "code",
   "execution_count": 49,
   "id": "04df5d55-89a0-4acd-abdf-8c3933593bb9",
   "metadata": {},
   "outputs": [],
   "source": [
    "df.drop(['charges'],inplace=True,axis=1)"
   ]
  },
  {
   "cell_type": "code",
   "execution_count": 9,
   "id": "6b3e88af-df32-484f-b79c-99b6d69e81cc",
   "metadata": {},
   "outputs": [
    {
     "name": "stdout",
     "output_type": "stream",
     "text": [
      "Requirement already satisfied: scikit-learn in c:\\users\\sumit\\desktop\\project\\myenv\\lib\\site-packages (1.4.1.post1)\n",
      "Requirement already satisfied: numpy<2.0,>=1.19.5 in c:\\users\\sumit\\desktop\\project\\myenv\\lib\\site-packages (from scikit-learn) (1.26.4)\n",
      "Requirement already satisfied: scipy>=1.6.0 in c:\\users\\sumit\\desktop\\project\\myenv\\lib\\site-packages (from scikit-learn) (1.12.0)\n",
      "Requirement already satisfied: joblib>=1.2.0 in c:\\users\\sumit\\desktop\\project\\myenv\\lib\\site-packages (from scikit-learn) (1.3.2)\n",
      "Requirement already satisfied: threadpoolctl>=2.0.0 in c:\\users\\sumit\\desktop\\project\\myenv\\lib\\site-packages (from scikit-learn) (3.4.0)\n"
     ]
    },
    {
     "name": "stderr",
     "output_type": "stream",
     "text": [
      "\n",
      "[notice] A new release of pip available: 22.3.1 -> 24.0\n",
      "[notice] To update, run: python.exe -m pip install --upgrade pip\n"
     ]
    }
   ],
   "source": [
    "!pip install scikit-learn"
   ]
  },
  {
   "cell_type": "code",
   "execution_count": 50,
   "id": "ecaef325-ee83-4489-b67e-2b2fd9748270",
   "metadata": {},
   "outputs": [],
   "source": [
    "from sklearn.preprocessing import LabelEncoder,MinMaxScaler"
   ]
  },
  {
   "cell_type": "code",
   "execution_count": 51,
   "id": "e751480a-40cf-4562-8662-63f5d07d90bd",
   "metadata": {},
   "outputs": [],
   "source": [
    "sEncoder=LabelEncoder()\n",
    "SmEncoder=LabelEncoder()\n",
    "REncoder=LabelEncoder()"
   ]
  },
  {
   "cell_type": "code",
   "execution_count": 52,
   "id": "88020f87-7510-4cfd-b4b2-1b96cec7e7f4",
   "metadata": {},
   "outputs": [],
   "source": [
    "df['sex']=sEncoder.fit_transform(df['sex'])\n",
    "df['smoker']=SmEncoder.fit_transform(df['smoker'])\n",
    "df['region']=REncoder.fit_transform(df['region'])"
   ]
  },
  {
   "cell_type": "code",
   "execution_count": 53,
   "id": "de23bf11-8396-4e54-88e9-ecd2e5752262",
   "metadata": {},
   "outputs": [
    {
     "data": {
      "text/html": [
       "<div>\n",
       "<style scoped>\n",
       "    .dataframe tbody tr th:only-of-type {\n",
       "        vertical-align: middle;\n",
       "    }\n",
       "\n",
       "    .dataframe tbody tr th {\n",
       "        vertical-align: top;\n",
       "    }\n",
       "\n",
       "    .dataframe thead th {\n",
       "        text-align: right;\n",
       "    }\n",
       "</style>\n",
       "<table border=\"1\" class=\"dataframe\">\n",
       "  <thead>\n",
       "    <tr style=\"text-align: right;\">\n",
       "      <th></th>\n",
       "      <th>age</th>\n",
       "      <th>sex</th>\n",
       "      <th>bmi</th>\n",
       "      <th>children</th>\n",
       "      <th>smoker</th>\n",
       "      <th>region</th>\n",
       "    </tr>\n",
       "  </thead>\n",
       "  <tbody>\n",
       "    <tr>\n",
       "      <th>0</th>\n",
       "      <td>19</td>\n",
       "      <td>0</td>\n",
       "      <td>27.900</td>\n",
       "      <td>0</td>\n",
       "      <td>1</td>\n",
       "      <td>3</td>\n",
       "    </tr>\n",
       "    <tr>\n",
       "      <th>1</th>\n",
       "      <td>18</td>\n",
       "      <td>1</td>\n",
       "      <td>33.770</td>\n",
       "      <td>1</td>\n",
       "      <td>0</td>\n",
       "      <td>2</td>\n",
       "    </tr>\n",
       "    <tr>\n",
       "      <th>2</th>\n",
       "      <td>28</td>\n",
       "      <td>1</td>\n",
       "      <td>33.000</td>\n",
       "      <td>3</td>\n",
       "      <td>0</td>\n",
       "      <td>2</td>\n",
       "    </tr>\n",
       "    <tr>\n",
       "      <th>3</th>\n",
       "      <td>33</td>\n",
       "      <td>1</td>\n",
       "      <td>22.705</td>\n",
       "      <td>0</td>\n",
       "      <td>0</td>\n",
       "      <td>1</td>\n",
       "    </tr>\n",
       "    <tr>\n",
       "      <th>4</th>\n",
       "      <td>32</td>\n",
       "      <td>1</td>\n",
       "      <td>28.880</td>\n",
       "      <td>0</td>\n",
       "      <td>0</td>\n",
       "      <td>1</td>\n",
       "    </tr>\n",
       "    <tr>\n",
       "      <th>...</th>\n",
       "      <td>...</td>\n",
       "      <td>...</td>\n",
       "      <td>...</td>\n",
       "      <td>...</td>\n",
       "      <td>...</td>\n",
       "      <td>...</td>\n",
       "    </tr>\n",
       "    <tr>\n",
       "      <th>2767</th>\n",
       "      <td>47</td>\n",
       "      <td>0</td>\n",
       "      <td>45.320</td>\n",
       "      <td>1</td>\n",
       "      <td>0</td>\n",
       "      <td>2</td>\n",
       "    </tr>\n",
       "    <tr>\n",
       "      <th>2768</th>\n",
       "      <td>21</td>\n",
       "      <td>0</td>\n",
       "      <td>34.600</td>\n",
       "      <td>0</td>\n",
       "      <td>0</td>\n",
       "      <td>3</td>\n",
       "    </tr>\n",
       "    <tr>\n",
       "      <th>2769</th>\n",
       "      <td>19</td>\n",
       "      <td>1</td>\n",
       "      <td>26.030</td>\n",
       "      <td>1</td>\n",
       "      <td>1</td>\n",
       "      <td>1</td>\n",
       "    </tr>\n",
       "    <tr>\n",
       "      <th>2770</th>\n",
       "      <td>23</td>\n",
       "      <td>1</td>\n",
       "      <td>18.715</td>\n",
       "      <td>0</td>\n",
       "      <td>0</td>\n",
       "      <td>1</td>\n",
       "    </tr>\n",
       "    <tr>\n",
       "      <th>2771</th>\n",
       "      <td>54</td>\n",
       "      <td>1</td>\n",
       "      <td>31.600</td>\n",
       "      <td>0</td>\n",
       "      <td>0</td>\n",
       "      <td>3</td>\n",
       "    </tr>\n",
       "  </tbody>\n",
       "</table>\n",
       "<p>2772 rows × 6 columns</p>\n",
       "</div>"
      ],
      "text/plain": [
       "      age  sex     bmi  children  smoker  region\n",
       "0      19    0  27.900         0       1       3\n",
       "1      18    1  33.770         1       0       2\n",
       "2      28    1  33.000         3       0       2\n",
       "3      33    1  22.705         0       0       1\n",
       "4      32    1  28.880         0       0       1\n",
       "...   ...  ...     ...       ...     ...     ...\n",
       "2767   47    0  45.320         1       0       2\n",
       "2768   21    0  34.600         0       0       3\n",
       "2769   19    1  26.030         1       1       1\n",
       "2770   23    1  18.715         0       0       1\n",
       "2771   54    1  31.600         0       0       3\n",
       "\n",
       "[2772 rows x 6 columns]"
      ]
     },
     "execution_count": 53,
     "metadata": {},
     "output_type": "execute_result"
    }
   ],
   "source": [
    "df"
   ]
  },
  {
   "cell_type": "code",
   "execution_count": 54,
   "id": "ece769c2-e11e-4106-82f9-ec6ec3b8a895",
   "metadata": {},
   "outputs": [],
   "source": [
    "scaler=MinMaxScaler()"
   ]
  },
  {
   "cell_type": "code",
   "execution_count": 55,
   "id": "d37faaed-f194-4603-be10-123302d29a62",
   "metadata": {},
   "outputs": [],
   "source": [
    "df=scaler.fit_transform(df)"
   ]
  },
  {
   "cell_type": "code",
   "execution_count": 18,
   "id": "2d1a6d95-0340-486e-bf2a-c413b80d066e",
   "metadata": {},
   "outputs": [
    {
     "data": {
      "text/plain": [
       "array([[0.02173913, 0.        , 0.3212268 , 0.        , 1.        ,\n",
       "        1.        ],\n",
       "       [0.        , 1.        , 0.47914985, 0.2       , 0.        ,\n",
       "        0.66666667],\n",
       "       [0.2173913 , 1.        , 0.45843422, 0.6       , 0.        ,\n",
       "        0.66666667],\n",
       "       ...,\n",
       "       [0.02173913, 1.        , 0.27091741, 0.2       , 1.        ,\n",
       "        0.33333333],\n",
       "       [0.10869565, 1.        , 0.07411891, 0.        , 0.        ,\n",
       "        0.33333333],\n",
       "       [0.7826087 , 1.        , 0.42076944, 0.        , 0.        ,\n",
       "        1.        ]])"
      ]
     },
     "execution_count": 18,
     "metadata": {},
     "output_type": "execute_result"
    }
   ],
   "source": [
    "df"
   ]
  },
  {
   "cell_type": "code",
   "execution_count": 56,
   "id": "7a4097e8-f02a-4da3-af4a-641ccde0e3d5",
   "metadata": {},
   "outputs": [],
   "source": [
    "from sklearn.model_selection import train_test_split"
   ]
  },
  {
   "cell_type": "code",
   "execution_count": 57,
   "id": "9afdffb7-7853-4dc4-a813-0e400a5005de",
   "metadata": {},
   "outputs": [],
   "source": [
    "X_train,X_test,Y_train,Y_test=train_test_split(df,target,test_size=0.3,random_state=6)"
   ]
  },
  {
   "cell_type": "code",
   "execution_count": 58,
   "id": "0cabc448-bb41-40b5-83f2-4dcec773ae91",
   "metadata": {},
   "outputs": [
    {
     "name": "stdout",
     "output_type": "stream",
     "text": [
      "[[0.86956522 1.         0.49582997 0.         0.         0.33333333]\n",
      " [0.86956522 0.         0.55205811 0.         0.         0.33333333]\n",
      " [0.17391304 1.         0.45574388 0.4        1.         1.        ]\n",
      " ...\n",
      " [0.02173913 0.         0.4613936  0.         1.         0.66666667]\n",
      " [0.86956522 0.         0.69814366 0.         0.         0.66666667]\n",
      " [0.7826087  0.         0.53416734 0.6        0.         0.33333333]]\n"
     ]
    }
   ],
   "source": [
    "print(X_train)"
   ]
  },
  {
   "cell_type": "code",
   "execution_count": 59,
   "id": "df312c98-5a11-49b3-a13c-fcfc92aa5cf1",
   "metadata": {},
   "outputs": [],
   "source": [
    "from sklearn.ensemble import RandomForestRegressor\n",
    "from sklearn.metrics import mean_squared_error,r2_score\n"
   ]
  },
  {
   "cell_type": "code",
   "execution_count": 60,
   "id": "c27d00a4-aab1-4137-829d-7ffd0d339a98",
   "metadata": {},
   "outputs": [],
   "source": [
    "rf_regressor = RandomForestRegressor(n_estimators=100, random_state=6)"
   ]
  },
  {
   "cell_type": "code",
   "execution_count": 61,
   "id": "901f41d5-28a9-41ce-b1ed-e182785096d4",
   "metadata": {},
   "outputs": [
    {
     "data": {
      "text/html": [
       "<style>#sk-container-id-2 {\n",
       "  /* Definition of color scheme common for light and dark mode */\n",
       "  --sklearn-color-text: black;\n",
       "  --sklearn-color-line: gray;\n",
       "  /* Definition of color scheme for unfitted estimators */\n",
       "  --sklearn-color-unfitted-level-0: #fff5e6;\n",
       "  --sklearn-color-unfitted-level-1: #f6e4d2;\n",
       "  --sklearn-color-unfitted-level-2: #ffe0b3;\n",
       "  --sklearn-color-unfitted-level-3: chocolate;\n",
       "  /* Definition of color scheme for fitted estimators */\n",
       "  --sklearn-color-fitted-level-0: #f0f8ff;\n",
       "  --sklearn-color-fitted-level-1: #d4ebff;\n",
       "  --sklearn-color-fitted-level-2: #b3dbfd;\n",
       "  --sklearn-color-fitted-level-3: cornflowerblue;\n",
       "\n",
       "  /* Specific color for light theme */\n",
       "  --sklearn-color-text-on-default-background: var(--sg-text-color, var(--theme-code-foreground, var(--jp-content-font-color1, black)));\n",
       "  --sklearn-color-background: var(--sg-background-color, var(--theme-background, var(--jp-layout-color0, white)));\n",
       "  --sklearn-color-border-box: var(--sg-text-color, var(--theme-code-foreground, var(--jp-content-font-color1, black)));\n",
       "  --sklearn-color-icon: #696969;\n",
       "\n",
       "  @media (prefers-color-scheme: dark) {\n",
       "    /* Redefinition of color scheme for dark theme */\n",
       "    --sklearn-color-text-on-default-background: var(--sg-text-color, var(--theme-code-foreground, var(--jp-content-font-color1, white)));\n",
       "    --sklearn-color-background: var(--sg-background-color, var(--theme-background, var(--jp-layout-color0, #111)));\n",
       "    --sklearn-color-border-box: var(--sg-text-color, var(--theme-code-foreground, var(--jp-content-font-color1, white)));\n",
       "    --sklearn-color-icon: #878787;\n",
       "  }\n",
       "}\n",
       "\n",
       "#sk-container-id-2 {\n",
       "  color: var(--sklearn-color-text);\n",
       "}\n",
       "\n",
       "#sk-container-id-2 pre {\n",
       "  padding: 0;\n",
       "}\n",
       "\n",
       "#sk-container-id-2 input.sk-hidden--visually {\n",
       "  border: 0;\n",
       "  clip: rect(1px 1px 1px 1px);\n",
       "  clip: rect(1px, 1px, 1px, 1px);\n",
       "  height: 1px;\n",
       "  margin: -1px;\n",
       "  overflow: hidden;\n",
       "  padding: 0;\n",
       "  position: absolute;\n",
       "  width: 1px;\n",
       "}\n",
       "\n",
       "#sk-container-id-2 div.sk-dashed-wrapped {\n",
       "  border: 1px dashed var(--sklearn-color-line);\n",
       "  margin: 0 0.4em 0.5em 0.4em;\n",
       "  box-sizing: border-box;\n",
       "  padding-bottom: 0.4em;\n",
       "  background-color: var(--sklearn-color-background);\n",
       "}\n",
       "\n",
       "#sk-container-id-2 div.sk-container {\n",
       "  /* jupyter's `normalize.less` sets `[hidden] { display: none; }`\n",
       "     but bootstrap.min.css set `[hidden] { display: none !important; }`\n",
       "     so we also need the `!important` here to be able to override the\n",
       "     default hidden behavior on the sphinx rendered scikit-learn.org.\n",
       "     See: https://github.com/scikit-learn/scikit-learn/issues/21755 */\n",
       "  display: inline-block !important;\n",
       "  position: relative;\n",
       "}\n",
       "\n",
       "#sk-container-id-2 div.sk-text-repr-fallback {\n",
       "  display: none;\n",
       "}\n",
       "\n",
       "div.sk-parallel-item,\n",
       "div.sk-serial,\n",
       "div.sk-item {\n",
       "  /* draw centered vertical line to link estimators */\n",
       "  background-image: linear-gradient(var(--sklearn-color-text-on-default-background), var(--sklearn-color-text-on-default-background));\n",
       "  background-size: 2px 100%;\n",
       "  background-repeat: no-repeat;\n",
       "  background-position: center center;\n",
       "}\n",
       "\n",
       "/* Parallel-specific style estimator block */\n",
       "\n",
       "#sk-container-id-2 div.sk-parallel-item::after {\n",
       "  content: \"\";\n",
       "  width: 100%;\n",
       "  border-bottom: 2px solid var(--sklearn-color-text-on-default-background);\n",
       "  flex-grow: 1;\n",
       "}\n",
       "\n",
       "#sk-container-id-2 div.sk-parallel {\n",
       "  display: flex;\n",
       "  align-items: stretch;\n",
       "  justify-content: center;\n",
       "  background-color: var(--sklearn-color-background);\n",
       "  position: relative;\n",
       "}\n",
       "\n",
       "#sk-container-id-2 div.sk-parallel-item {\n",
       "  display: flex;\n",
       "  flex-direction: column;\n",
       "}\n",
       "\n",
       "#sk-container-id-2 div.sk-parallel-item:first-child::after {\n",
       "  align-self: flex-end;\n",
       "  width: 50%;\n",
       "}\n",
       "\n",
       "#sk-container-id-2 div.sk-parallel-item:last-child::after {\n",
       "  align-self: flex-start;\n",
       "  width: 50%;\n",
       "}\n",
       "\n",
       "#sk-container-id-2 div.sk-parallel-item:only-child::after {\n",
       "  width: 0;\n",
       "}\n",
       "\n",
       "/* Serial-specific style estimator block */\n",
       "\n",
       "#sk-container-id-2 div.sk-serial {\n",
       "  display: flex;\n",
       "  flex-direction: column;\n",
       "  align-items: center;\n",
       "  background-color: var(--sklearn-color-background);\n",
       "  padding-right: 1em;\n",
       "  padding-left: 1em;\n",
       "}\n",
       "\n",
       "\n",
       "/* Toggleable style: style used for estimator/Pipeline/ColumnTransformer box that is\n",
       "clickable and can be expanded/collapsed.\n",
       "- Pipeline and ColumnTransformer use this feature and define the default style\n",
       "- Estimators will overwrite some part of the style using the `sk-estimator` class\n",
       "*/\n",
       "\n",
       "/* Pipeline and ColumnTransformer style (default) */\n",
       "\n",
       "#sk-container-id-2 div.sk-toggleable {\n",
       "  /* Default theme specific background. It is overwritten whether we have a\n",
       "  specific estimator or a Pipeline/ColumnTransformer */\n",
       "  background-color: var(--sklearn-color-background);\n",
       "}\n",
       "\n",
       "/* Toggleable label */\n",
       "#sk-container-id-2 label.sk-toggleable__label {\n",
       "  cursor: pointer;\n",
       "  display: block;\n",
       "  width: 100%;\n",
       "  margin-bottom: 0;\n",
       "  padding: 0.5em;\n",
       "  box-sizing: border-box;\n",
       "  text-align: center;\n",
       "}\n",
       "\n",
       "#sk-container-id-2 label.sk-toggleable__label-arrow:before {\n",
       "  /* Arrow on the left of the label */\n",
       "  content: \"▸\";\n",
       "  float: left;\n",
       "  margin-right: 0.25em;\n",
       "  color: var(--sklearn-color-icon);\n",
       "}\n",
       "\n",
       "#sk-container-id-2 label.sk-toggleable__label-arrow:hover:before {\n",
       "  color: var(--sklearn-color-text);\n",
       "}\n",
       "\n",
       "/* Toggleable content - dropdown */\n",
       "\n",
       "#sk-container-id-2 div.sk-toggleable__content {\n",
       "  max-height: 0;\n",
       "  max-width: 0;\n",
       "  overflow: hidden;\n",
       "  text-align: left;\n",
       "  /* unfitted */\n",
       "  background-color: var(--sklearn-color-unfitted-level-0);\n",
       "}\n",
       "\n",
       "#sk-container-id-2 div.sk-toggleable__content.fitted {\n",
       "  /* fitted */\n",
       "  background-color: var(--sklearn-color-fitted-level-0);\n",
       "}\n",
       "\n",
       "#sk-container-id-2 div.sk-toggleable__content pre {\n",
       "  margin: 0.2em;\n",
       "  border-radius: 0.25em;\n",
       "  color: var(--sklearn-color-text);\n",
       "  /* unfitted */\n",
       "  background-color: var(--sklearn-color-unfitted-level-0);\n",
       "}\n",
       "\n",
       "#sk-container-id-2 div.sk-toggleable__content.fitted pre {\n",
       "  /* unfitted */\n",
       "  background-color: var(--sklearn-color-fitted-level-0);\n",
       "}\n",
       "\n",
       "#sk-container-id-2 input.sk-toggleable__control:checked~div.sk-toggleable__content {\n",
       "  /* Expand drop-down */\n",
       "  max-height: 200px;\n",
       "  max-width: 100%;\n",
       "  overflow: auto;\n",
       "}\n",
       "\n",
       "#sk-container-id-2 input.sk-toggleable__control:checked~label.sk-toggleable__label-arrow:before {\n",
       "  content: \"▾\";\n",
       "}\n",
       "\n",
       "/* Pipeline/ColumnTransformer-specific style */\n",
       "\n",
       "#sk-container-id-2 div.sk-label input.sk-toggleable__control:checked~label.sk-toggleable__label {\n",
       "  color: var(--sklearn-color-text);\n",
       "  background-color: var(--sklearn-color-unfitted-level-2);\n",
       "}\n",
       "\n",
       "#sk-container-id-2 div.sk-label.fitted input.sk-toggleable__control:checked~label.sk-toggleable__label {\n",
       "  background-color: var(--sklearn-color-fitted-level-2);\n",
       "}\n",
       "\n",
       "/* Estimator-specific style */\n",
       "\n",
       "/* Colorize estimator box */\n",
       "#sk-container-id-2 div.sk-estimator input.sk-toggleable__control:checked~label.sk-toggleable__label {\n",
       "  /* unfitted */\n",
       "  background-color: var(--sklearn-color-unfitted-level-2);\n",
       "}\n",
       "\n",
       "#sk-container-id-2 div.sk-estimator.fitted input.sk-toggleable__control:checked~label.sk-toggleable__label {\n",
       "  /* fitted */\n",
       "  background-color: var(--sklearn-color-fitted-level-2);\n",
       "}\n",
       "\n",
       "#sk-container-id-2 div.sk-label label.sk-toggleable__label,\n",
       "#sk-container-id-2 div.sk-label label {\n",
       "  /* The background is the default theme color */\n",
       "  color: var(--sklearn-color-text-on-default-background);\n",
       "}\n",
       "\n",
       "/* On hover, darken the color of the background */\n",
       "#sk-container-id-2 div.sk-label:hover label.sk-toggleable__label {\n",
       "  color: var(--sklearn-color-text);\n",
       "  background-color: var(--sklearn-color-unfitted-level-2);\n",
       "}\n",
       "\n",
       "/* Label box, darken color on hover, fitted */\n",
       "#sk-container-id-2 div.sk-label.fitted:hover label.sk-toggleable__label.fitted {\n",
       "  color: var(--sklearn-color-text);\n",
       "  background-color: var(--sklearn-color-fitted-level-2);\n",
       "}\n",
       "\n",
       "/* Estimator label */\n",
       "\n",
       "#sk-container-id-2 div.sk-label label {\n",
       "  font-family: monospace;\n",
       "  font-weight: bold;\n",
       "  display: inline-block;\n",
       "  line-height: 1.2em;\n",
       "}\n",
       "\n",
       "#sk-container-id-2 div.sk-label-container {\n",
       "  text-align: center;\n",
       "}\n",
       "\n",
       "/* Estimator-specific */\n",
       "#sk-container-id-2 div.sk-estimator {\n",
       "  font-family: monospace;\n",
       "  border: 1px dotted var(--sklearn-color-border-box);\n",
       "  border-radius: 0.25em;\n",
       "  box-sizing: border-box;\n",
       "  margin-bottom: 0.5em;\n",
       "  /* unfitted */\n",
       "  background-color: var(--sklearn-color-unfitted-level-0);\n",
       "}\n",
       "\n",
       "#sk-container-id-2 div.sk-estimator.fitted {\n",
       "  /* fitted */\n",
       "  background-color: var(--sklearn-color-fitted-level-0);\n",
       "}\n",
       "\n",
       "/* on hover */\n",
       "#sk-container-id-2 div.sk-estimator:hover {\n",
       "  /* unfitted */\n",
       "  background-color: var(--sklearn-color-unfitted-level-2);\n",
       "}\n",
       "\n",
       "#sk-container-id-2 div.sk-estimator.fitted:hover {\n",
       "  /* fitted */\n",
       "  background-color: var(--sklearn-color-fitted-level-2);\n",
       "}\n",
       "\n",
       "/* Specification for estimator info (e.g. \"i\" and \"?\") */\n",
       "\n",
       "/* Common style for \"i\" and \"?\" */\n",
       "\n",
       ".sk-estimator-doc-link,\n",
       "a:link.sk-estimator-doc-link,\n",
       "a:visited.sk-estimator-doc-link {\n",
       "  float: right;\n",
       "  font-size: smaller;\n",
       "  line-height: 1em;\n",
       "  font-family: monospace;\n",
       "  background-color: var(--sklearn-color-background);\n",
       "  border-radius: 1em;\n",
       "  height: 1em;\n",
       "  width: 1em;\n",
       "  text-decoration: none !important;\n",
       "  margin-left: 1ex;\n",
       "  /* unfitted */\n",
       "  border: var(--sklearn-color-unfitted-level-1) 1pt solid;\n",
       "  color: var(--sklearn-color-unfitted-level-1);\n",
       "}\n",
       "\n",
       ".sk-estimator-doc-link.fitted,\n",
       "a:link.sk-estimator-doc-link.fitted,\n",
       "a:visited.sk-estimator-doc-link.fitted {\n",
       "  /* fitted */\n",
       "  border: var(--sklearn-color-fitted-level-1) 1pt solid;\n",
       "  color: var(--sklearn-color-fitted-level-1);\n",
       "}\n",
       "\n",
       "/* On hover */\n",
       "div.sk-estimator:hover .sk-estimator-doc-link:hover,\n",
       ".sk-estimator-doc-link:hover,\n",
       "div.sk-label-container:hover .sk-estimator-doc-link:hover,\n",
       ".sk-estimator-doc-link:hover {\n",
       "  /* unfitted */\n",
       "  background-color: var(--sklearn-color-unfitted-level-3);\n",
       "  color: var(--sklearn-color-background);\n",
       "  text-decoration: none;\n",
       "}\n",
       "\n",
       "div.sk-estimator.fitted:hover .sk-estimator-doc-link.fitted:hover,\n",
       ".sk-estimator-doc-link.fitted:hover,\n",
       "div.sk-label-container:hover .sk-estimator-doc-link.fitted:hover,\n",
       ".sk-estimator-doc-link.fitted:hover {\n",
       "  /* fitted */\n",
       "  background-color: var(--sklearn-color-fitted-level-3);\n",
       "  color: var(--sklearn-color-background);\n",
       "  text-decoration: none;\n",
       "}\n",
       "\n",
       "/* Span, style for the box shown on hovering the info icon */\n",
       ".sk-estimator-doc-link span {\n",
       "  display: none;\n",
       "  z-index: 9999;\n",
       "  position: relative;\n",
       "  font-weight: normal;\n",
       "  right: .2ex;\n",
       "  padding: .5ex;\n",
       "  margin: .5ex;\n",
       "  width: min-content;\n",
       "  min-width: 20ex;\n",
       "  max-width: 50ex;\n",
       "  color: var(--sklearn-color-text);\n",
       "  box-shadow: 2pt 2pt 4pt #999;\n",
       "  /* unfitted */\n",
       "  background: var(--sklearn-color-unfitted-level-0);\n",
       "  border: .5pt solid var(--sklearn-color-unfitted-level-3);\n",
       "}\n",
       "\n",
       ".sk-estimator-doc-link.fitted span {\n",
       "  /* fitted */\n",
       "  background: var(--sklearn-color-fitted-level-0);\n",
       "  border: var(--sklearn-color-fitted-level-3);\n",
       "}\n",
       "\n",
       ".sk-estimator-doc-link:hover span {\n",
       "  display: block;\n",
       "}\n",
       "\n",
       "/* \"?\"-specific style due to the `<a>` HTML tag */\n",
       "\n",
       "#sk-container-id-2 a.estimator_doc_link {\n",
       "  float: right;\n",
       "  font-size: 1rem;\n",
       "  line-height: 1em;\n",
       "  font-family: monospace;\n",
       "  background-color: var(--sklearn-color-background);\n",
       "  border-radius: 1rem;\n",
       "  height: 1rem;\n",
       "  width: 1rem;\n",
       "  text-decoration: none;\n",
       "  /* unfitted */\n",
       "  color: var(--sklearn-color-unfitted-level-1);\n",
       "  border: var(--sklearn-color-unfitted-level-1) 1pt solid;\n",
       "}\n",
       "\n",
       "#sk-container-id-2 a.estimator_doc_link.fitted {\n",
       "  /* fitted */\n",
       "  border: var(--sklearn-color-fitted-level-1) 1pt solid;\n",
       "  color: var(--sklearn-color-fitted-level-1);\n",
       "}\n",
       "\n",
       "/* On hover */\n",
       "#sk-container-id-2 a.estimator_doc_link:hover {\n",
       "  /* unfitted */\n",
       "  background-color: var(--sklearn-color-unfitted-level-3);\n",
       "  color: var(--sklearn-color-background);\n",
       "  text-decoration: none;\n",
       "}\n",
       "\n",
       "#sk-container-id-2 a.estimator_doc_link.fitted:hover {\n",
       "  /* fitted */\n",
       "  background-color: var(--sklearn-color-fitted-level-3);\n",
       "}\n",
       "</style><div id=\"sk-container-id-2\" class=\"sk-top-container\"><div class=\"sk-text-repr-fallback\"><pre>RandomForestRegressor(random_state=6)</pre><b>In a Jupyter environment, please rerun this cell to show the HTML representation or trust the notebook. <br />On GitHub, the HTML representation is unable to render, please try loading this page with nbviewer.org.</b></div><div class=\"sk-container\" hidden><div class=\"sk-item\"><div class=\"sk-estimator fitted sk-toggleable\"><input class=\"sk-toggleable__control sk-hidden--visually\" id=\"sk-estimator-id-2\" type=\"checkbox\" checked><label for=\"sk-estimator-id-2\" class=\"sk-toggleable__label fitted sk-toggleable__label-arrow fitted\">&nbsp;&nbsp;RandomForestRegressor<a class=\"sk-estimator-doc-link fitted\" rel=\"noreferrer\" target=\"_blank\" href=\"https://scikit-learn.org/1.4/modules/generated/sklearn.ensemble.RandomForestRegressor.html\">?<span>Documentation for RandomForestRegressor</span></a><span class=\"sk-estimator-doc-link fitted\">i<span>Fitted</span></span></label><div class=\"sk-toggleable__content fitted\"><pre>RandomForestRegressor(random_state=6)</pre></div> </div></div></div></div>"
      ],
      "text/plain": [
       "RandomForestRegressor(random_state=6)"
      ]
     },
     "execution_count": 61,
     "metadata": {},
     "output_type": "execute_result"
    }
   ],
   "source": [
    "rf_regressor.fit(X_train,Y_train)"
   ]
  },
  {
   "cell_type": "code",
   "execution_count": 62,
   "id": "9b8b34dc-30fe-4a2e-a03a-aaecfc14c0b1",
   "metadata": {},
   "outputs": [
    {
     "data": {
      "text/plain": [
       "1429     6313.75900\n",
       "917     35069.37452\n",
       "836      4402.23300\n",
       "193     12044.34200\n",
       "617     23306.54700\n",
       "           ...     \n",
       "272      7265.70250\n",
       "2013    11326.71487\n",
       "2675     7147.47280\n",
       "2409     1711.02680\n",
       "1992     3558.62025\n",
       "Name: charges, Length: 832, dtype: float64"
      ]
     },
     "execution_count": 62,
     "metadata": {},
     "output_type": "execute_result"
    }
   ],
   "source": [
    "Y_test"
   ]
  },
  {
   "cell_type": "code",
   "execution_count": 63,
   "id": "3e007b4b-dd00-431c-b343-acfdf805dfe4",
   "metadata": {},
   "outputs": [],
   "source": [
    "ans=rf_regressor.predict(X_test)"
   ]
  },
  {
   "cell_type": "code",
   "execution_count": 64,
   "id": "5e32e81d-4f65-4e0d-bd03-b0b1231f7376",
   "metadata": {},
   "outputs": [
    {
     "data": {
      "text/plain": [
       "0.9502194177395481"
      ]
     },
     "execution_count": 64,
     "metadata": {},
     "output_type": "execute_result"
    }
   ],
   "source": [
    "r2_score(ans,Y_test)"
   ]
  },
  {
   "cell_type": "code",
   "execution_count": 65,
   "id": "88d6d7bf-4c6f-49d1-b298-133180b7a758",
   "metadata": {},
   "outputs": [
    {
     "data": {
      "text/plain": [
       "array([ 6658.3095346 , 29359.5975097 ,  4455.5967665 , 15780.1771334 ,\n",
       "       23560.6311295 , 39780.2317839 , 14321.595169  ,  9106.3732251 ,\n",
       "       34750.24829   ,  6913.1404935 , 14026.860805  ,  6065.6026931 ,\n",
       "       19013.709825  ,  8129.5245804 , 12894.1853652 ,  3475.927344  ,\n",
       "       19077.53394   ,  2226.6465595 , 22892.7476618 ,  2472.463092  ,\n",
       "        5402.8501209 ,  7212.103302  , 20001.8478349 ,  3753.8020409 ,\n",
       "       13391.0074525 , 25799.102105  ,  2993.5463586 ,  4639.2047568 ,\n",
       "        5819.1846083 ,  2550.1076839 , 10558.3825364 ,  4670.494459  ,\n",
       "        3024.1916059 ,  5206.388194  , 19324.5370183 ,  7034.238707  ,\n",
       "        3938.0915479 ,  4883.932777  , 45307.9293852 , 12726.8799838 ,\n",
       "       48252.3291816 ,  5819.1846083 ,  4519.176906  ,  7527.7026473 ,\n",
       "       10336.5598155 , 16551.3973231 ,  2680.786106  ,  7807.2417338 ,\n",
       "        4046.63287351, 33567.7603195 , 14103.0151734 ,  6175.3836185 ,\n",
       "        5258.6574462 ,  3325.49558783, 48051.1134731 ,  2141.241124  ,\n",
       "        1941.95461501, 10259.1445902 ,  3454.2808855 ,  9237.0643062 ,\n",
       "        5664.0816152 ,  2024.535537  , 49467.308705  ,  1609.3287005 ,\n",
       "       15172.2490496 ,  9356.9300471 ,  9976.9454829 ,  2234.518498  ,\n",
       "        1250.556719  , 12404.8003923 ,  8283.2530752 ,  5135.3732838 ,\n",
       "        4939.2462097 , 15957.4361792 , 12034.6674899 ,  2334.1361298 ,\n",
       "       21808.22569   , 11403.1133932 ,  8837.4720254 ,  5439.2445084 ,\n",
       "       34122.1858734 ,  9801.09194   , 43302.7406108 ,  7527.7026473 ,\n",
       "        8396.5490302 ,  5583.9507185 ,  8742.0334196 ,  7563.4034787 ,\n",
       "        1248.7991545 , 39369.3631975 ,  5346.0621133 ,  8212.6095186 ,\n",
       "        4100.17227143,  9292.087918  , 17804.3548605 , 10892.8875352 ,\n",
       "       13902.843127  , 10941.6907626 , 19542.4038235 ,  5802.8772197 ,\n",
       "        8855.3606749 ,  8443.8864437 ,  5377.5381926 ,  9079.6833385 ,\n",
       "        8056.9587564 , 13254.1433728 , 47139.8014463 , 20978.3590458 ,\n",
       "        5336.9921995 ,  7001.5983255 ,  5350.996317  , 30510.4086187 ,\n",
       "        1941.95461501,  5040.2835737 , 47850.704854  , 35524.3150969 ,\n",
       "        3729.557196  , 38850.1738505 ,  1294.565747  ,  8622.3211465 ,\n",
       "       11253.6360114 ,  9811.372252  ,  2548.2642384 , 49859.6881359 ,\n",
       "       12293.8817195 ,  3287.9592908 , 39691.239048  , 11486.6814958 ,\n",
       "       10614.4180396 ,  7186.45524   , 14551.9847618 ,  2210.369941  ,\n",
       "       11181.6981933 , 24353.7051985 , 19156.625659  , 11338.9194243 ,\n",
       "        1135.931526  ,  1645.019366  ,  2925.332376  , 16429.1105793 ,\n",
       "       21781.9257043 ,  2643.979825  , 25803.5521418 ,  2550.5929103 ,\n",
       "        6654.7381992 ,  4885.014995  , 40572.4422418 ,  5706.5489293 ,\n",
       "       11181.6981933 ,  4948.1966538 , 11253.6360114 ,  1294.565747  ,\n",
       "        7490.9674375 , 41195.044714  ,  2148.1527545 ,  9572.6434778 ,\n",
       "        6994.2786915 ,  4037.9362159 ,  5063.810217  , 37607.650312  ,\n",
       "       16464.614372  ,  3058.5740188 ,  5686.3692469 ,  9934.9299506 ,\n",
       "        5506.1124878 ,  9018.4714326 , 16464.614372  , 11713.764557  ,\n",
       "        6358.08549   ,  5581.7666585 ,  7001.0255225 , 28557.1271329 ,\n",
       "        2002.025244  , 13778.074161  ,  5488.2451405 ,  2778.9218594 ,\n",
       "       41400.0461504 , 20055.5861898 , 10714.4753997 ,  8620.0706438 ,\n",
       "       34953.9183998 ,  5042.099493  ,  7944.4157883 ,  4499.9489472 ,\n",
       "       12699.7914949 , 23854.963552  , 11947.2999828 ,  6700.431568  ,\n",
       "       39369.3631975 ,  3897.5193622 ,  6358.08549   ,  4513.735436  ,\n",
       "        3995.7349835 , 10661.3322485 , 11804.747736  ,  8538.1230257 ,\n",
       "        5501.8143651 , 20336.5192695 , 12740.2671949 ,  8953.6340404 ,\n",
       "        2088.78452488,  2035.6558866 , 12494.3272144 , 37612.2381418 ,\n",
       "       11173.2406068 , 11223.0034074 ,  2168.982891  , 42674.8182801 ,\n",
       "        5637.31689323,  1714.167427  , 37612.2381418 , 12887.9381039 ,\n",
       "        7858.01493   ,  8338.9857731 ,  2395.5932105 ,  2738.1347753 ,\n",
       "       11567.6512963 ,  7094.0900936 ,  1747.65107   , 18690.042183  ,\n",
       "       39000.9087635 ,  7944.4157883 , 10273.0246746 ,  1712.119864  ,\n",
       "       27716.7863818 ,  6436.4569615 , 14875.9533671 , 43143.1759689 ,\n",
       "        1812.4234935 ,  4019.4362333 , 13560.4383438 ,  3190.303308  ,\n",
       "        3819.265401  ,  3504.05354   ,  3987.8724785 , 40289.7782114 ,\n",
       "       10440.822374  , 43365.8708882 ,  3224.9747512 , 42520.6593595 ,\n",
       "       13355.867388  , 11066.9217619 , 13153.6685335 , 17087.5510968 ,\n",
       "       11089.6038402 , 41669.352949  , 11088.58225   ,  9131.9938987 ,\n",
       "        1241.534299  ,  2025.089457  ,  8443.8864437 ,  3343.85332833,\n",
       "        7161.0525048 , 18632.3561369 , 21168.2673748 ,  6990.0194249 ,\n",
       "        6542.0999755 ,  5579.4728148 , 10626.1610988 , 12765.8271436 ,\n",
       "        9191.892945  ,  8855.3606749 , 24835.9620241 , 41635.681552  ,\n",
       "       10296.2440037 , 11338.9194243 ,  4038.7885446 , 11932.0365551 ,\n",
       "        9486.497983  ,  2574.382406  , 10413.3478674 ,  4037.9362159 ,\n",
       "       13474.793724  ,  6601.164177  , 13169.0501988 ,  8418.1157797 ,\n",
       "        6689.5717301 , 16045.1127575 ,  9407.9949355 ,  2392.470118  ,\n",
       "       46323.428237  , 34253.8798833 ,  5444.860797  , 12394.4129221 ,\n",
       "        7496.5409775 , 16801.6490251 , 11851.338974  ,  5531.840297  ,\n",
       "       27038.120224  ,  2201.5328245 , 10919.9092093 , 10246.9991372 ,\n",
       "        4298.743619  ,  3208.9543676 , 14249.181983  ,  5444.860797  ,\n",
       "        5063.810217  ,  1837.18696   ,  1824.5712814 , 13144.8662392 ,\n",
       "        9452.2028357 , 14681.1124978 , 19939.3982402 , 15415.5342822 ,\n",
       "       11026.8307532 ,  4491.0260429 ,  4124.8879635 , 22302.1044986 ,\n",
       "       18690.042183  ,  5551.7127459 , 12699.7914949 , 37151.6852339 ,\n",
       "       30112.5830297 , 13951.42289   , 19263.5157235 ,  7683.656891  ,\n",
       "        4509.9780948 , 16800.3997645 ,  7948.384074  ,  6793.6110532 ,\n",
       "        6601.164177  ,  6963.5697014 ,  9369.5075554 ,  1831.67411169,\n",
       "       11321.3461572 ,  8699.011856  , 39507.5319862 , 13169.0501988 ,\n",
       "        2935.658196  , 11240.0951782 ,  5059.8817753 , 16523.4031517 ,\n",
       "       19814.4737526 ,  6895.2884225 ,  2375.9313206 ,  8583.9109314 ,\n",
       "       12417.0250789 ,  6369.0274017 , 16974.7211541 , 47026.7992504 ,\n",
       "       36305.317983  , 13755.9415834 , 33567.7603195 , 46725.4355425 ,\n",
       "        1325.1762198 , 23904.2618592 ,  6997.632034  ,  4229.0026351 ,\n",
       "        1609.3287005 , 18326.135228  , 12465.9249354 , 10662.7641535 ,\n",
       "        7938.832245  ,  3198.9411787 , 48252.3291816 , 15015.0180697 ,\n",
       "       40090.087125  , 11486.6814958 , 12688.4664836 , 10644.3287833 ,\n",
       "        6235.4602    ,  9926.7483492 ,  5476.941613  ,  1716.70426   ,\n",
       "        3436.7881259 ,  6292.3284947 , 12537.3589191 ,  6950.1827163 ,\n",
       "       45472.472433  , 12386.5706533 ,  2594.75068676, 12718.2416145 ,\n",
       "       39672.8989634 , 37669.2927697 ,  9191.892945  , 14480.538121  ,\n",
       "       21192.202504  ,  2172.1672485 ,  8620.0706438 ,  9371.1386235 ,\n",
       "        4844.0955787 ,  1892.27356757,  1860.9314739 ,  6478.0328081 ,\n",
       "        9895.875304  ,  8953.6340404 , 20561.1393936 ,  6793.6110532 ,\n",
       "       15325.2812041 , 22662.5598751 , 31511.9343589 , 17220.4264883 ,\n",
       "        8742.0334196 , 14433.8075937 , 24637.3918557 ,  4037.9362159 ,\n",
       "       48386.5696666 , 14996.2218591 , 25280.5149455 , 10350.0281963 ,\n",
       "        7949.0624356 , 14130.8060096 , 36842.376201  ,  8653.5759657 ,\n",
       "       10009.7299745 , 43668.8782216 ,  1734.163161  ,  5267.8088355 ,\n",
       "        9015.2088633 ,  4543.2006637 ,  5030.1154414 ,  2073.694628  ,\n",
       "        8999.57405679,  2024.75646899,  3181.0289557 , 12699.5640599 ,\n",
       "       11963.5449965 , 10791.4910045 ,  9862.999255  ,  4890.1345145 ,\n",
       "       10404.1758218 ,  2310.157229  ,  9820.6479927 ,  8950.095086  ,\n",
       "        8028.1681699 , 11692.5800125 , 10457.9686897 , 13672.883693  ,\n",
       "       13422.212873  ,  2018.605798  ,  2104.91656481, 18843.3077348 ,\n",
       "        9865.8010332 ,  8955.1998258 , 12726.8799838 , 20823.2104821 ,\n",
       "       10554.8020535 , 12699.4666422 ,  2728.3905552 ,  6529.3560939 ,\n",
       "       13863.8614955 , 43728.1450319 ,  3215.2711896 ,  6132.059133  ,\n",
       "       26359.3356675 ,  2154.5433595 ,  7913.4668553 , 35990.4775925 ,\n",
       "       46996.5983445 , 43442.1208485 ,  8878.9289451 ,  8677.2464504 ,\n",
       "        4280.7607348 , 11689.1455094 ,  4769.8325719 , 20055.5861898 ,\n",
       "        2828.7390207 , 15172.2490496 ,  2446.0927215 , 25799.102105  ,\n",
       "       18097.5881314 , 10158.7038033 , 20428.0686065 , 18843.3077348 ,\n",
       "       13942.546326  ,  8191.8157165 , 16464.614372  , 46401.6048274 ,\n",
       "        1994.48612251, 13118.9823304 , 19874.154707  , 34122.1858734 ,\n",
       "        3058.5740188 ,  4046.63287351, 45541.6987533 , 35764.288116  ,\n",
       "        1629.5089735 ,  8200.977238  ,  3436.7881259 , 17683.1947181 ,\n",
       "       11182.7254873 ,  6608.0918064 , 16045.1127575 , 16800.3997645 ,\n",
       "        5926.808401  , 17210.3039095 ,  6833.6004948 ,  5140.8863419 ,\n",
       "       43728.1450319 ,  2141.241124  ,  8313.5420382 ,  7344.4235589 ,\n",
       "        6431.189967  ,  6292.3284947 , 41662.7543765 ,  5030.4172652 ,\n",
       "        3576.5703629 ,  4714.2076049 , 11078.3388076 ,  2360.104625  ,\n",
       "        2172.1672485 ,  7435.0930224 ,  2109.3970151 , 12391.9715054 ,\n",
       "       23978.660514  ,  4769.8325719 , 10656.0301015 , 12404.9310416 ,\n",
       "        4939.2462097 ,  3475.927344  ,  9982.8643748 , 11116.75589   ,\n",
       "       11847.9973126 ,  9060.6867958 ,  4402.6001054 ,  1248.7991545 ,\n",
       "       11440.2277254 ,  2101.871774  ,  5164.879184  ,  2257.9407745 ,\n",
       "       35524.3150969 ,  5562.7116415 , 14894.5536792 , 17467.756303  ,\n",
       "       16158.4097572 , 13697.1333393 , 12342.8998606 , 12267.3750876 ,\n",
       "        3176.2704421 , 15885.7248488 ,  8706.0291525 ,  5015.7238043 ,\n",
       "        8338.9857731 ,  1860.9314739 , 11807.3679316 ,  6654.7381992 ,\n",
       "       20412.4654489 , 11901.6190312 ,  8808.598196  , 42640.9177815 ,\n",
       "       12521.2336525 , 11116.75589   ,  5293.4396195 , 47610.2711355 ,\n",
       "        8330.6581446 ,  4992.2807595 , 10366.9132134 ,  7991.3914716 ,\n",
       "        9537.8911985 ,  5181.6937045 , 45307.9293852 ,  2323.8783715 ,\n",
       "        6727.581645  ,  1337.9196798 ,  5292.0099186 ,  5730.266624  ,\n",
       "        3898.4836468 , 13118.9823304 , 10170.8373663 , 13440.021972  ,\n",
       "        4838.4025138 ,  3363.584037  ,  1124.576163  , 13202.741689  ,\n",
       "        8993.7855563 , 47934.5891975 , 12394.4129221 ,  6762.0181163 ,\n",
       "       25429.0098837 , 20184.082435  , 24141.3655345 , 28687.9338112 ,\n",
       "       18078.354589  , 11844.9957335 , 14888.7788691 ,  6197.462911  ,\n",
       "        4491.0260429 ,  9194.639281  ,  8976.5591785 ,  5904.5904549 ,\n",
       "        4209.8404729 , 13973.6798038 , 16377.6558031 ,  6079.5302872 ,\n",
       "       17793.0444523 , 28227.1619079 , 24051.4537059 ,  1704.68394   ,\n",
       "        8129.7472338 ,  1892.058995  , 24051.4537059 , 13082.5614598 ,\n",
       "        7084.151034  , 26442.1441928 , 14996.2218591 , 13449.2443403 ,\n",
       "       14296.368449  ,  3176.2704421 , 12699.5640599 ,  8056.9587564 ,\n",
       "        3388.7091505 , 11418.4303764 ,  2782.3218739 ,  9060.960468  ,\n",
       "       16299.1544467 ,  9079.6833385 , 38464.1937548 , 23259.6083444 ,\n",
       "        2104.91656481,  3325.49558783, 16022.8699067 , 10312.6874944 ,\n",
       "        2968.2933595 ,  5244.6340865 ,  1629.361645  , 20209.7681045 ,\n",
       "       13279.714292  ,  2738.1347753 , 40087.9104097 ,  3802.844135  ,\n",
       "       11884.5482427 , 26232.4291277 ,  1241.534299  , 41376.514646  ,\n",
       "       15957.4361792 ,  2609.7993794 ,  2168.982891  , 11816.0888814 ,\n",
       "       21734.3118752 ,  8369.3487105 ,  7435.0930224 ,  6196.5097393 ,\n",
       "        4918.2082093 , 41376.514646  , 10170.8373663 , 16952.3053236 ,\n",
       "        7130.5058104 ,  7551.1757345 , 47390.0429547 , 19577.8095625 ,\n",
       "        3287.9592908 ,  8607.2199925 , 13339.3242946 ,  7655.0139297 ,\n",
       "        7353.3862828 , 16344.5072754 , 47193.8339376 , 46401.6048274 ,\n",
       "        4519.176906  ,  2085.065588  ,  7010.805524  , 47850.704854  ,\n",
       "        5181.6937045 ,  5045.9166568 ,  3484.0688428 ,  6197.462911  ,\n",
       "        9412.015334  , 11227.6759544 ,  4156.1854039 ,  2024.535537  ,\n",
       "        7913.4668553 ,  7996.6369458 , 27427.763088  ,  4061.579132  ,\n",
       "        6066.8477745 , 13697.1333393 ,  6286.2365124 ,  9225.8437565 ,\n",
       "        4100.17227143, 17918.8896284 ,  4110.7534313 , 13902.843127  ,\n",
       "       36777.1530411 ,  5730.266624  , 23906.8051517 , 14489.3735715 ,\n",
       "        9356.9300471 ,  5867.9410504 , 29100.5341516 , 34330.7419955 ,\n",
       "        2550.1076839 ,  4915.9587223 , 41100.6492537 , 12122.4935197 ,\n",
       "        5531.1983103 ,  1732.304674  , 10503.2008263 , 48082.703691  ,\n",
       "       48418.6807239 , 12342.8998606 ,  4879.491928  , 14421.0666988 ,\n",
       "       16585.2667932 , 11182.7254873 , 11078.3388076 , 17603.6224425 ,\n",
       "       39507.5319862 ,  9114.3430353 , 10291.6009667 ,  1325.1762198 ,\n",
       "       21370.159806  , 11431.1733405 ,  6431.189967  , 17824.2592911 ,\n",
       "        9175.620012  , 22670.5191446 , 15137.7069848 , 29054.000099  ,\n",
       "        8777.8150691 , 12887.9381039 ,  2310.157229  , 11320.7830707 ,\n",
       "        3431.3010764 , 13474.1354295 ,  9136.2287835 ,  7844.3979375 ,\n",
       "        5672.0518119 ,  6959.1289695 , 19324.5370183 , 15445.7277398 ,\n",
       "        4796.6571641 ,  7019.402579  ,  8470.1463702 , 11723.463237  ,\n",
       "       14421.0666988 , 13440.021972  , 24715.8311046 ,  2704.3499885 ,\n",
       "       19157.7368855 ,  6781.5027897 ,  9982.8643748 , 14946.4502815 ,\n",
       "        5866.6406308 , 12721.6677846 ,  6246.4406456 , 12663.859575  ,\n",
       "       17467.756303  , 24949.6708976 ,  5866.6406308 , 13470.842227  ,\n",
       "        7130.5604384 ,  5551.7127459 , 47026.7992504 ,  6713.0258454 ,\n",
       "        4491.0260429 ,  8944.6698874 ,  6786.5946515 ,  1247.5358015 ,\n",
       "        3914.7895979 , 43783.9020945 , 28227.1619079 , 39861.5359005 ,\n",
       "        6199.2548431 ,  7991.3914716 ,  9500.085862  ,  7427.7640285 ,\n",
       "        7353.3862828 , 18629.5120708 ,  4209.8404729 ,  4886.8637702 ,\n",
       "        4940.811286  ,  2013.55044794,  3866.5501649 ,  8877.6853881 ,\n",
       "        5294.0136453 , 46294.7071812 , 34953.9183998 ,  2385.70492076,\n",
       "       11689.1455094 , 41692.7320625 ,  5294.0136453 ,  9784.2261645 ,\n",
       "        1994.48612251,  4374.6036014 , 18629.5120708 ,  7667.3158855 ,\n",
       "        2233.0400082 ,  2872.0206869 , 19795.5109337 ,  2410.3087908 ,\n",
       "       12404.8003923 , 43302.7406108 ,  9959.7092324 , 20769.4550389 ,\n",
       "        1294.341902  ,  9357.314536  , 11650.8538675 ,  1251.4567455 ,\n",
       "       12267.3750876 , 21795.0110517 ,  6997.632034  , 10083.4704888 ,\n",
       "       19422.4672522 ,  3224.9747512 ,  9959.7092324 ,  3786.8848261 ,\n",
       "        7009.887312  , 16191.0649729 ,  7212.103302  , 12765.8271436 ,\n",
       "        5838.3146789 ,  8916.7552282 , 28359.7816062 ,  9914.1089749 ,\n",
       "        3046.7547465 ,  8948.5870725 ,  6302.9758237 ,  4553.3503111 ,\n",
       "        2085.059744  ,  6025.876486  , 15678.2732678 ,  3804.2420132 ,\n",
       "       12457.9439276 , 19398.2788335 ,  1704.657894  , 23259.6083444 ,\n",
       "       33119.6225605 , 14554.0512758 , 13951.42289   , 16377.6558031 ,\n",
       "       15415.5342822 ,  3995.7349835 ,  6774.8935845 , 41960.7486672 ,\n",
       "        4924.7861252 , 20209.7681045 ,  3135.8859644 ,  7992.7798171 ,\n",
       "        5244.6340865 ,  7490.9674375 ,  1974.5174439 ,  4280.7607348 ])"
      ]
     },
     "execution_count": 65,
     "metadata": {},
     "output_type": "execute_result"
    }
   ],
   "source": [
    "ans"
   ]
  },
  {
   "cell_type": "code",
   "execution_count": 66,
   "id": "94d38d1f-88b7-42d1-bd8b-9194495bd0db",
   "metadata": {},
   "outputs": [
    {
     "name": "stdout",
     "output_type": "stream",
     "text": [
      "Package created successfully!\n"
     ]
    }
   ],
   "source": [
    "import pickle\n",
    "\n",
    "# Serialize objects\n",
    "serialized_objects = {\n",
    "    'model': rf_regressor,\n",
    "    'scaler': scaler,\n",
    "    'sEncoder':sEncoder,\n",
    "'SmEncoder':SmEncoder,\n",
    "'REncoder':REncoder\n",
    "}\n",
    "\n",
    "# Save serialized objects to file\n",
    "with open('package.pkl', 'wb') as f:\n",
    "    pickle.dump(serialized_objects, f)\n",
    "\n",
    "print(\"Package created successfully!\")"
   ]
  },
  {
   "cell_type": "code",
   "execution_count": 67,
   "id": "64048d51-9e02-46d5-857e-ea0057809324",
   "metadata": {},
   "outputs": [],
   "source": [
    "arr=X_train[0].reshape(-1,1)"
   ]
  },
  {
   "cell_type": "code",
   "execution_count": 68,
   "id": "e3db7785-25ca-4b9c-a1e4-29de0e161a53",
   "metadata": {},
   "outputs": [
    {
     "data": {
      "text/plain": [
       "(6, 1)"
      ]
     },
     "execution_count": 68,
     "metadata": {},
     "output_type": "execute_result"
    }
   ],
   "source": [
    "arr.shape"
   ]
  },
  {
   "cell_type": "code",
   "execution_count": 69,
   "id": "2a774f59-d985-4448-b28b-67718b21b3d5",
   "metadata": {},
   "outputs": [
    {
     "name": "stdout",
     "output_type": "stream",
     "text": [
      "c:\\Users\\SUMIT\\Desktop\\project\\app\n"
     ]
    }
   ],
   "source": [
    "import os\n",
    "print(os.getcwd())"
   ]
  },
  {
   "cell_type": "code",
   "execution_count": 77,
   "id": "58b9eec2-2ba4-4398-ba12-31252dfe66ee",
   "metadata": {},
   "outputs": [],
   "source": [
    "import pickle\n",
    "\n",
    "# Load serialized objects from file\n",
    "with open('package.pkl', 'rb') as f:\n",
    "    serialized_objects = pickle.load(f)\n",
    "\n",
    "# Access the objects\n",
    "model = serialized_objects['model']\n",
    "scaler = serialized_objects['scaler']\n",
    "sEncoder=serialized_objects['sEncoder']\n",
    "SmEncoder=serialized_objects['SmEncoder']\n",
    "REncoder=serialized_objects['REncoder']\n",
    "\n"
   ]
  },
  {
   "cell_type": "code",
   "execution_count": 78,
   "id": "2af7dd9b-a62e-4902-bd97-3f536538977d",
   "metadata": {},
   "outputs": [],
   "source": [
    "arr=np.array([0.86956522 ,1 ,0.49582997,0, 0,0.33333333]).reshape(1,-1)"
   ]
  },
  {
   "cell_type": "code",
   "execution_count": 79,
   "id": "415f0d44-df66-4b75-b313-3eea871f1496",
   "metadata": {},
   "outputs": [
    {
     "data": {
      "text/plain": [
       "array([11723.463237])"
      ]
     },
     "execution_count": 79,
     "metadata": {},
     "output_type": "execute_result"
    }
   ],
   "source": [
    "model.predict(arr)\n"
   ]
  },
  {
   "cell_type": "code",
   "execution_count": 85,
   "id": "fc7c9d57-ee2e-4cfd-891d-cfe402ac04b9",
   "metadata": {},
   "outputs": [
    {
     "data": {
      "text/plain": [
       "0"
      ]
     },
     "execution_count": 85,
     "metadata": {},
     "output_type": "execute_result"
    }
   ],
   "source": [
    "\n",
    "sEncoder.transform(['female'])[0]"
   ]
  },
  {
   "cell_type": "code",
   "execution_count": 82,
   "id": "998c182f-89ce-468e-b77c-3e90ef7b730c",
   "metadata": {},
   "outputs": [
    {
     "data": {
      "text/plain": [
       "array([0])"
      ]
     },
     "execution_count": 82,
     "metadata": {},
     "output_type": "execute_result"
    }
   ],
   "source": [
    "SmEncoder.transform(['no'])"
   ]
  },
  {
   "cell_type": "code",
   "execution_count": 83,
   "id": "d3a5a6c8-fd4e-4d2b-af92-674a909d9c2f",
   "metadata": {},
   "outputs": [
    {
     "data": {
      "text/plain": [
       "array([2])"
      ]
     },
     "execution_count": 83,
     "metadata": {},
     "output_type": "execute_result"
    }
   ],
   "source": [
    "REncoder.transform(['southeast'])"
   ]
  }
 ],
 "metadata": {
  "kernelspec": {
   "display_name": "Python 3 (ipykernel)",
   "language": "python",
   "name": "python3"
  },
  "language_info": {
   "codemirror_mode": {
    "name": "ipython",
    "version": 3
   },
   "file_extension": ".py",
   "mimetype": "text/x-python",
   "name": "python",
   "nbconvert_exporter": "python",
   "pygments_lexer": "ipython3",
   "version": "3.11.3"
  }
 },
 "nbformat": 4,
 "nbformat_minor": 5
}
